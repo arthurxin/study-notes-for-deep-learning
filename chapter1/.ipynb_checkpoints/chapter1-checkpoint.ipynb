{
 "cells": [
  {
   "cell_type": "markdown",
   "metadata": {},
   "source": [
    "# 第一章 入门准备"
   ]
  },
  {
   "cell_type": "markdown",
   "metadata": {},
   "source": [
    "## Anaconda\n",
    "Anaconda是一种用来管理程序工作环境的软件，这个项目大部分时候用的是jupyter notebook\n",
    "### 基本操作\n",
    "conda install *package_name*  \n",
    "conda create -n *env_name* *list_of_packages* (python=3)  \n",
    "source activate *env_name*  \n",
    "source deactivate *env_name*  \n",
    "conda env export > environment.yaml 导出环境  \n",
    "conda env create -f environment.yaml 导入环境  \n",
    "conda env list  "
   ]
  },
  {
   "cell_type": "markdown",
   "metadata": {},
   "source": [
    "## jupyter notebook\n",
    "有大量的快捷键，以后再添加  \n",
    "命令模式下，m表示转为markdown，y为转为code \n",
    "command+shift+f 打开操作台  \n",
    "markdown的语法网站，即查即用：http://www.appinn.com/markdown/#p"
   ]
  },
  {
   "cell_type": "code",
   "execution_count": null,
   "metadata": {
    "collapsed": true
   },
   "outputs": [],
   "source": [
    "sk_learn"
   ]
  }
 ],
 "metadata": {
  "kernelspec": {
   "display_name": "Python 3",
   "language": "python",
   "name": "python3"
  },
  "language_info": {
   "codemirror_mode": {
    "name": "ipython",
    "version": 3
   },
   "file_extension": ".py",
   "mimetype": "text/x-python",
   "name": "python",
   "nbconvert_exporter": "python",
   "pygments_lexer": "ipython3",
   "version": "3.6.1"
  }
 },
 "nbformat": 4,
 "nbformat_minor": 2
}
